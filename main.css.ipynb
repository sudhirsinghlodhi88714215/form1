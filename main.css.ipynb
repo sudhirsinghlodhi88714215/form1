{
 "cells": [
  {
   "cell_type": "code",
   "execution_count": null,
   "id": "5af91ec2-37f0-48bb-9523-ccc48400a4df",
   "metadata": {},
   "outputs": [],
   "source": [
    "body, html {\n",
    "    margin: 0;\n",
    "    font-family: sans-serif;\n",
    "}\n",
    ".content{\n",
    "    margin: 0 auto;\n",
    "    width: 400px;\n",
    "}\n",
    "\n",
    "table, tb th {\n",
    "    border: 1px solidrgba(170, 170, 170, 0.952);\n",
    "}\n",
    "\n",
    "table {\n",
    "    border-collapse: collapse;\n",
    "    width: 100px;\n",
    "}\n",
    "\n",
    "th {\n",
    "    height: 30px;\n",
    "}\n",
    "\n",
    "td {\n",
    "    text-align: center;\n",
    "    padding: 5px;\n",
    "}\n",
    "\n",
    ".form{\n",
    "    margin-top:  20px;\n",
    "}\n",
    "#content{\n",
    "    width: 70px;\n",
    "}"
   ]
  }
 ],
 "metadata": {
  "kernelspec": {
   "display_name": "Python 3 (ipykernel)",
   "language": "python",
   "name": "python3"
  },
  "language_info": {
   "codemirror_mode": {
    "name": "ipython",
    "version": 3
   },
   "file_extension": ".py",
   "mimetype": "text/x-python",
   "name": "python",
   "nbconvert_exporter": "python",
   "pygments_lexer": "ipython3",
   "version": "3.10.8"
  }
 },
 "nbformat": 4,
 "nbformat_minor": 5
}
