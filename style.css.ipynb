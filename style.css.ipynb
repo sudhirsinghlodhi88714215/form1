{
 "cells": [
  {
   "cell_type": "code",
   "execution_count": null,
   "id": "3875f2f6-ebd4-4db4-a665-ebaf0d0caf29",
   "metadata": {},
   "outputs": [],
   "source": [
    "body {\n",
    "    background-color: #91ced4;\n",
    "\n",
    "}\n",
    "body *{\n",
    "    box-sizing: border-box;\n",
    "}\n",
    "\n",
    ".header {\n",
    "    background-color: #327a81;\n",
    "    color: white;\n",
    "    font-size: 1.5em; \n",
    "    padding: 1rem;\n",
    "    text-align: center;\n",
    "    text-transform: uppercase;\n",
    "}\n",
    "img {\n",
    "    border-radius: 50%;\n",
    "    height: 60px;\n",
    "    width: 60px;\n",
    "}"
   ]
  }
 ],
 "metadata": {
  "kernelspec": {
   "display_name": "Python 3 (ipykernel)",
   "language": "python",
   "name": "python3"
  },
  "language_info": {
   "codemirror_mode": {
    "name": "ipython",
    "version": 3
   },
   "file_extension": ".py",
   "mimetype": "text/x-python",
   "name": "python",
   "nbconvert_exporter": "python",
   "pygments_lexer": "ipython3",
   "version": "3.10.8"
  }
 },
 "nbformat": 4,
 "nbformat_minor": 5
}
