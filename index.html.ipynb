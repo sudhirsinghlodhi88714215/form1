{
 "cells": [
  {
   "cell_type": "code",
   "execution_count": null,
   "id": "1f9f2b06-9f87-4f2e-a1b6-4e569ee4579e",
   "metadata": {},
   "outputs": [],
   "source": [
    "{% block head %}\n",
    "\n",
    "<titel>Calculatior</titel>\n",
    "<link rel =\"stylessheet\" href=\"/static/css/style.css\">\n",
    "{% endblock  %}\n",
    "\n",
    "{%block body %} \n",
    "<div class =\"content\">\n",
    "    <h1 style =\"text_align:center\"> Calculatior</h1>\n",
    "\n",
    "    <div class=\"form\">\n",
    "        <form action=\"/math\" mathod =\"POST\">\n",
    "            <label for=\"operation\">Choose a Mathematical operation</label>\n",
    "\n",
    "<select di=\"operation\" name=\"operation\">\n",
    "    <option value=\"add\">add</option>    \n",
    "    <option value=\"subtract\">subtract</option>   \n",
    "    <option value=\"multiply\">multiply</option>   \n",
    "    <option value=\"divide\">divide</option>          \n",
    "</select>\n",
    "              <input type=\"text\" name=\"num1\" id=\"num1\">\n",
    "              <input type=\"text\" name=\"num2\" id=\"num2\">\n",
    "              <input type=\"submit\" value=\"Calculate\">\n",
    "        </form>\n",
    "    </div>\n",
    "</div>\n",
    "{%endblock%}"
   ]
  }
 ],
 "metadata": {
  "kernelspec": {
   "display_name": "Python 3 (ipykernel)",
   "language": "python",
   "name": "python3"
  },
  "language_info": {
   "codemirror_mode": {
    "name": "ipython",
    "version": 3
   },
   "file_extension": ".py",
   "mimetype": "text/x-python",
   "name": "python",
   "nbconvert_exporter": "python",
   "pygments_lexer": "ipython3",
   "version": "3.10.8"
  }
 },
 "nbformat": 4,
 "nbformat_minor": 5
}
