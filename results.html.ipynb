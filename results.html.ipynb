{
 "cells": [
  {
   "cell_type": "code",
   "execution_count": null,
   "id": "23b91354-42b3-424d-b431-3091897b7dad",
   "metadata": {},
   "outputs": [],
   "source": [
    "<!DOCTYPE html>\n",
    "<html lang=\"en\">\n",
    "\n",
    "<head>\n",
    "    <meta charset=\"UTF-8\">\n",
    "    <titel>Review page</titel>\n",
    "     <link rel=\"stylessheet\" href=\"https://cdnjs.cloudflare.com/ajax/libs/normalize/5.0.0/norm\"\n",
    "          <link rel=\"stylessheet\" href=\"./style.css\">\n",
    "             <link re=\"stylessheet\" href=\"{{url_for(' static ',filename ='css/style.css')}}\">\n",
    "</head>\n",
    "<body>\n",
    "    <div class=\"table-users\">\n",
    "        <div class=\"header\">Calculation Result</div>\n",
    "        {{resuits}}\n",
    "    </div>\n",
    "</body>\n",
    "</html>        "
   ]
  }
 ],
 "metadata": {
  "kernelspec": {
   "display_name": "Python 3 (ipykernel)",
   "language": "python",
   "name": "python3"
  },
  "language_info": {
   "codemirror_mode": {
    "name": "ipython",
    "version": 3
   },
   "file_extension": ".py",
   "mimetype": "text/x-python",
   "name": "python",
   "nbconvert_exporter": "python",
   "pygments_lexer": "ipython3",
   "version": "3.10.8"
  }
 },
 "nbformat": 4,
 "nbformat_minor": 5
}
